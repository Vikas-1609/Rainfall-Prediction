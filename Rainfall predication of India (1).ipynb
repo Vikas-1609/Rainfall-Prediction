{
 "cells": [
  {
   "cell_type": "code",
   "execution_count": 72,
   "metadata": {},
   "outputs": [],
   "source": [
    "import pandas as pd"
   ]
  },
  {
   "cell_type": "code",
   "execution_count": 73,
   "metadata": {},
   "outputs": [],
   "source": [
    "import numpy as np"
   ]
  },
  {
   "cell_type": "code",
   "execution_count": 74,
   "metadata": {},
   "outputs": [],
   "source": [
    "import math"
   ]
  },
  {
   "cell_type": "code",
   "execution_count": 75,
   "metadata": {},
   "outputs": [],
   "source": [
    "import sklearn"
   ]
  },
  {
   "cell_type": "code",
   "execution_count": 76,
   "metadata": {},
   "outputs": [],
   "source": [
    "from sklearn.model_selection import train_test_split"
   ]
  },
  {
   "cell_type": "code",
   "execution_count": 77,
   "metadata": {},
   "outputs": [],
   "source": [
    "from sklearn.metrics import mean_squared_error,r2_score,mean_absolute_error"
   ]
  },
  {
   "cell_type": "code",
   "execution_count": 78,
   "metadata": {},
   "outputs": [],
   "source": [
    "import matplotlib.pyplot as plt\n",
    "import seaborn as sb\n",
    "from sklearn import preprocessing"
   ]
  },
  {
   "cell_type": "code",
   "execution_count": 79,
   "metadata": {},
   "outputs": [],
   "source": [
    "data=pd.read_csv(\"rainfall.csv\")"
   ]
  },
  {
   "cell_type": "code",
   "execution_count": 90,
   "metadata": {},
   "outputs": [
    {
     "name": "stdout",
     "output_type": "stream",
     "text": [
      "Data heads:\n",
      "                 SUBDIVISION  YEAR   JAN    FEB   MAR    APR    MAY    JUN  \\\n",
      "0  ANDAMAN & NICOBAR ISLANDS  1901  49.2   87.1  29.2    2.3  528.8  517.5   \n",
      "1  ANDAMAN & NICOBAR ISLANDS  1902   0.0  159.8  12.2    0.0  446.1  537.1   \n",
      "2  ANDAMAN & NICOBAR ISLANDS  1903  12.7  144.0   0.0    1.0  235.1  479.9   \n",
      "3  ANDAMAN & NICOBAR ISLANDS  1904   9.4   14.7   0.0  202.4  304.5  495.1   \n",
      "4  ANDAMAN & NICOBAR ISLANDS  1905   1.3    0.0   3.3   26.9  279.5  628.7   \n",
      "\n",
      "     JUL    AUG    SEP    OCT    NOV    DEC  ANNUAL  Jan-Feb  Mar-May  \\\n",
      "0  365.1  481.1  332.6  388.5  558.2   33.6  3373.2    136.3    560.3   \n",
      "1  228.9  753.7  666.2  197.2  359.0  160.5  3520.7    159.8    458.3   \n",
      "2  728.4  326.7  339.0  181.2  284.4  225.0  2957.4    156.7    236.1   \n",
      "3  502.0  160.1  820.4  222.2  308.7   40.1  3079.6     24.1    506.9   \n",
      "4  368.7  330.5  297.0  260.7   25.4  344.7  2566.7      1.3    309.7   \n",
      "\n",
      "   Jun-Sep  Oct-Dec  \n",
      "0   1696.3    980.3  \n",
      "1   2185.9    716.7  \n",
      "2   1874.0    690.6  \n",
      "3   1977.6    571.0  \n",
      "4   1624.9    630.8  \n",
      "Null values in the dataset before preprocessing:\n",
      "SUBDIVISION    0\n",
      "YEAR           0\n",
      "JAN            0\n",
      "FEB            0\n",
      "MAR            0\n",
      "APR            0\n",
      "MAY            0\n",
      "JUN            0\n",
      "JUL            0\n",
      "AUG            0\n",
      "SEP            0\n",
      "OCT            0\n",
      "NOV            0\n",
      "DEC            0\n",
      "ANNUAL         0\n",
      "Jan-Feb        0\n",
      "Mar-May        0\n",
      "Jun-Sep        0\n",
      "Oct-Dec        0\n",
      "dtype: int64\n",
      "Filling null values with mean of that particular column\n",
      "Mean of data:\n",
      "YEAR       1958.218659\n",
      "JAN          18.957320\n",
      "FEB          21.805325\n",
      "MAR          27.359197\n",
      "APR          43.127432\n",
      "MAY          85.745417\n",
      "JUN         230.234444\n",
      "JUL         347.214334\n",
      "AUG         290.263497\n",
      "SEP         197.361922\n",
      "OCT          95.507009\n",
      "NOV          39.866163\n",
      "DEC          18.870580\n",
      "ANNUAL     1411.008900\n",
      "Jan-Feb      40.747786\n",
      "Mar-May     155.901753\n",
      "Jun-Sep    1064.724769\n",
      "Oct-Dec     154.100487\n",
      "dtype: float64\n",
      "Null values in the dataset after preprocessing:\n",
      "SUBDIVISION    0\n",
      "YEAR           0\n",
      "JAN            0\n",
      "FEB            0\n",
      "MAR            0\n",
      "APR            0\n",
      "MAY            0\n",
      "JUN            0\n",
      "JUL            0\n",
      "AUG            0\n",
      "SEP            0\n",
      "OCT            0\n",
      "NOV            0\n",
      "DEC            0\n",
      "ANNUAL         0\n",
      "Jan-Feb        0\n",
      "Mar-May        0\n",
      "Jun-Sep        0\n",
      "Oct-Dec        0\n",
      "dtype: int64\n",
      "\n",
      "\n",
      "Shape:  (4116, 19)\n"
     ]
    },
    {
     "name": "stderr",
     "output_type": "stream",
     "text": [
      "C:\\Users\\Hp\\AppData\\Local\\Temp\\ipykernel_22160\\3767997537.py:6: FutureWarning: The default value of numeric_only in DataFrame.mean is deprecated. In a future version, it will default to False. In addition, specifying 'numeric_only=None' is deprecated. Select only valid columns or specify the value of numeric_only to silence this warning.\n",
      "  data = data.fillna(data.mean())\n",
      "c:\\Users\\Hp\\AppData\\Local\\Programs\\Python\\Python311\\Lib\\site-packages\\numpy\\core\\fromnumeric.py:3430: FutureWarning: In a future version, DataFrame.mean(axis=None) will return a scalar mean over the entire DataFrame. To retain the old behavior, use 'frame.mean(axis=0)' or just 'frame.mean()'\n",
      "  return mean(axis=axis, dtype=dtype, out=out, **kwargs)\n",
      "c:\\Users\\Hp\\AppData\\Local\\Programs\\Python\\Python311\\Lib\\site-packages\\numpy\\core\\fromnumeric.py:3430: FutureWarning: The default value of numeric_only in DataFrame.mean is deprecated. In a future version, it will default to False. In addition, specifying 'numeric_only=None' is deprecated. Select only valid columns or specify the value of numeric_only to silence this warning.\n",
      "  return mean(axis=axis, dtype=dtype, out=out, **kwargs)\n"
     ]
    }
   ],
   "source": [
    "print(\"Data heads:\")\n",
    "print(data.head())\n",
    "print(\"Null values in the dataset before preprocessing:\")\n",
    "print(data.isnull().sum())\n",
    "print(\"Filling null values with mean of that particular column\")\n",
    "data = data.fillna(data.mean())\n",
    "print(\"Mean of data:\")\n",
    "print(np.mean(data))\n",
    "print(\"Null values in the dataset after preprocessing:\")\n",
    "print(data.isnull().sum())\n",
    "print(\"\\n\\nShape: \",data.shape)"
   ]
  },
  {
   "cell_type": "code",
   "execution_count": 81,
   "metadata": {},
   "outputs": [
    {
     "name": "stdout",
     "output_type": "stream",
     "text": [
      "Info:\n",
      "<class 'pandas.core.frame.DataFrame'>\n",
      "RangeIndex: 4116 entries, 0 to 4115\n",
      "Data columns (total 19 columns):\n",
      " #   Column       Non-Null Count  Dtype  \n",
      "---  ------       --------------  -----  \n",
      " 0   SUBDIVISION  4116 non-null   object \n",
      " 1   YEAR         4116 non-null   int64  \n",
      " 2   JAN          4116 non-null   float64\n",
      " 3   FEB          4116 non-null   float64\n",
      " 4   MAR          4116 non-null   float64\n",
      " 5   APR          4116 non-null   float64\n",
      " 6   MAY          4116 non-null   float64\n",
      " 7   JUN          4116 non-null   float64\n",
      " 8   JUL          4116 non-null   float64\n",
      " 9   AUG          4116 non-null   float64\n",
      " 10  SEP          4116 non-null   float64\n",
      " 11  OCT          4116 non-null   float64\n",
      " 12  NOV          4116 non-null   float64\n",
      " 13  DEC          4116 non-null   float64\n",
      " 14  ANNUAL       4116 non-null   float64\n",
      " 15  Jan-Feb      4116 non-null   float64\n",
      " 16  Mar-May      4116 non-null   float64\n",
      " 17  Jun-Sep      4116 non-null   float64\n",
      " 18  Oct-Dec      4116 non-null   float64\n",
      "dtypes: float64(17), int64(1), object(1)\n",
      "memory usage: 611.1+ KB\n",
      "None\n"
     ]
    }
   ],
   "source": [
    "print(\"Info:\")\n",
    "print(data.info())"
   ]
  },
  {
   "cell_type": "code",
   "execution_count": 82,
   "metadata": {},
   "outputs": [
    {
     "name": "stdout",
     "output_type": "stream",
     "text": [
      "Group by:\n"
     ]
    },
    {
     "data": {
      "text/plain": [
       "SUBDIVISION\n",
       "ANDAMAN & NICOBAR ISLANDS             110\n",
       "ARUNACHAL PRADESH                      97\n",
       "ASSAM & MEGHALAYA                     115\n",
       "BIHAR                                 115\n",
       "CHHATTISGARH                          115\n",
       "COASTAL ANDHRA PRADESH                115\n",
       "COASTAL KARNATAKA                     115\n",
       "EAST MADHYA PRADESH                   115\n",
       "EAST RAJASTHAN                        115\n",
       "EAST UTTAR PRADESH                    115\n",
       "GANGETIC WEST BENGAL                  115\n",
       "GUJARAT REGION                        115\n",
       "HARYANA DELHI & CHANDIGARH            115\n",
       "HIMACHAL PRADESH                      115\n",
       "JAMMU & KASHMIR                       115\n",
       "JHARKHAND                             115\n",
       "KERALA                                115\n",
       "KONKAN & GOA                          115\n",
       "LAKSHADWEEP                           114\n",
       "MADHYA MAHARASHTRA                    115\n",
       "MATATHWADA                            115\n",
       "NAGA MANI MIZO TRIPURA                115\n",
       "NORTH INTERIOR KARNATAKA              115\n",
       "ORISSA                                115\n",
       "PUNJAB                                115\n",
       "RAYALSEEMA                            115\n",
       "SAURASHTRA & KUTCH                    115\n",
       "SOUTH INTERIOR KARNATAKA              115\n",
       "SUB HIMALAYAN WEST BENGAL & SIKKIM    115\n",
       "TAMIL NADU                            115\n",
       "TELANGANA                             115\n",
       "UTTARAKHAND                           115\n",
       "VIDARBHA                              115\n",
       "WEST MADHYA PRADESH                   115\n",
       "WEST RAJASTHAN                        115\n",
       "WEST UTTAR PRADESH                    115\n",
       "dtype: int64"
      ]
     },
     "execution_count": 82,
     "metadata": {},
     "output_type": "execute_result"
    }
   ],
   "source": [
    "print(\"Group by:\")\n",
    "data.groupby('SUBDIVISION').size()"
   ]
  },
  {
   "cell_type": "code",
   "execution_count": 83,
   "metadata": {},
   "outputs": [
    {
     "name": "stdout",
     "output_type": "stream",
     "text": [
      "Co-Variance =                 YEAR          JAN          FEB           MAR           APR  \\\n",
      "YEAR     1098.319127   -62.525455   -26.333846     31.608776     17.985597   \n",
      "JAN       -62.525455  1126.880700   549.299548    627.375837    475.344306   \n",
      "FEB       -26.333846   549.299548  1288.551221    974.300386    892.111938   \n",
      "MAR        31.608776   627.375837   974.300386   2201.972143   1766.214414   \n",
      "APR        17.985597   475.344306   892.111938   1766.214414   4596.594854   \n",
      "MAY        14.668989   535.377197   896.648721   2094.072720   5433.121872   \n",
      "JUN      -105.646427  -265.334667   283.409286   1819.002965   7239.347234   \n",
      "JUL      -144.815256  -465.128448   156.524886   1227.377060   4883.946095   \n",
      "AUG        40.268753    75.536029   488.385320   1195.021166   3275.971621   \n",
      "SEP       -29.893921   110.216877   388.537697   1133.597551   3507.500523   \n",
      "OCT         7.922814    41.252990   -16.324506    401.044464   2478.380760   \n",
      "NOV       -42.624271   154.517515   -57.342083     28.337749    767.024409   \n",
      "DEC       -26.804831   311.215537   200.895960    270.309451    379.022457   \n",
      "ANNUAL   -239.492392  3182.200682  5831.636967  13551.372253  34892.913572   \n",
      "Jan-Feb   -87.619668  1675.112786  1837.200844   1601.188055   1367.102182   \n",
      "Mar-May    70.841300  1632.972340  2754.690073   6057.993672  11751.856167   \n",
      "Jun-Sep  -220.389375  -537.708253  1291.239831   5354.542547  18800.990715   \n",
      "Oct-Dec   -56.011703   507.405040   130.324910    702.446620   3611.891111   \n",
      "\n",
      "                  MAY            JUN            JUL            AUG  \\\n",
      "YEAR        14.668989    -105.646427    -144.815256      40.268753   \n",
      "JAN        535.377197    -265.334667    -465.128448      75.536029   \n",
      "FEB        896.648721     283.409286     156.524886     488.385320   \n",
      "MAR       2094.072720    1819.002965    1227.377060    1195.021166   \n",
      "APR       5433.121872    7239.347234    4883.946095    3275.971621   \n",
      "MAY      15175.769642   16377.076471   10998.210205    7649.136573   \n",
      "JUN      16377.076471   55022.202897   46742.156704   28995.034435   \n",
      "JUL      10998.210205   46742.156704   72528.044881   34865.908024   \n",
      "AUG       7649.136573   28995.034435   34865.908024   35599.654379   \n",
      "SEP       8195.841594   17494.413820   18689.175537   12689.249607   \n",
      "OCT       6466.235613   11407.373968    8011.623303    4698.672264   \n",
      "NOV       2957.825540    3683.106889     787.996420     225.143088   \n",
      "DEC       1297.885757     878.194764    -221.331169      13.095578   \n",
      "ANNUAL   76832.142562  186947.838753  196502.700078  128005.124370   \n",
      "Jan-Feb   1430.274263      14.101413    -304.676604     568.034975   \n",
      "Mar-May  22630.231857   25297.228770   16923.240288   12061.613866   \n",
      "Jun-Sep  43086.245286  147777.656772  172787.647754  111996.536530   \n",
      "Oct-Dec  10689.487044   15929.294431    8543.095960    4889.354198   \n",
      "\n",
      "                  SEP           OCT           NOV          DEC         ANNUAL  \\\n",
      "YEAR       -29.893921      7.922814    -42.624271   -26.804831    -239.492392   \n",
      "JAN        110.216877     41.252990    154.517515   311.215537    3182.200682   \n",
      "FEB        388.537697    -16.324506    -57.342083   200.895960    5831.636967   \n",
      "MAR       1133.597551    401.044464     28.337749   270.309451   13551.372253   \n",
      "APR       3507.500523   2478.380760    767.024409   379.022457   34892.913572   \n",
      "MAY       8195.841594   6466.235613   2957.825540  1297.885757   76832.142562   \n",
      "JUN      17494.413820  11407.373968   3683.106889   878.194764  186947.838753   \n",
      "JUL      18689.175537   8011.623303    787.996420  -221.331169  196502.700078   \n",
      "AUG      12689.249607   4698.672264    225.143088    13.095578  128005.124370   \n",
      "SEP      18308.685373   5160.065598   1423.645365   625.337757   86880.184870   \n",
      "OCT       5160.065598   9887.210250   3255.412215  1181.840586   52370.830566   \n",
      "NOV       1423.645365   3255.412215   4705.074413  1306.412604   18933.853987   \n",
      "DEC        625.337757   1181.840586   1306.412604  1790.821416    7849.560149   \n",
      "ANNUAL   86880.184870  52370.830566  18933.853987  7849.560149  811776.910930   \n",
      "Jan-Feb    497.514696     22.024800     92.528943   512.180397    9013.688346   \n",
      "Mar-May  12753.170806   9323.753288   3734.819277  1929.952379  125275.096761   \n",
      "Jun-Sep  67119.849971  29204.838323   6116.134359  1265.311019  598334.762240   \n",
      "Oct-Dec   7199.381976  14283.355731   9219.400872  4279.018309   79154.756536   \n",
      "\n",
      "             Jan-Feb        Mar-May        Jun-Sep       Oct-Dec  \n",
      "YEAR      -87.619668      70.841300    -220.389375    -56.011703  \n",
      "JAN      1675.112786    1632.972340    -537.708253    507.405040  \n",
      "FEB      1837.200844    2754.690073    1291.239831    130.324910  \n",
      "MAR      1601.188055    6057.993672    5354.542547    702.446620  \n",
      "APR      1367.102182   11751.856167   18800.990715   3611.891111  \n",
      "MAY      1430.274263   22630.231857   43086.245286  10689.487044  \n",
      "JUN        14.101413   25297.228770  147777.656772  15929.294431  \n",
      "JUL      -304.676604   16923.240288  172787.647754   8543.095960  \n",
      "AUG       568.034975   12061.613866  111996.536530   4889.354198  \n",
      "SEP       497.514696   12753.170806   67119.849971   7199.381976  \n",
      "OCT        22.024800    9323.753288   29204.838323  14283.355731  \n",
      "NOV        92.528943    3734.819277    6116.134359   9219.400872  \n",
      "DEC       512.180397    1929.952379    1265.311019   4279.018309  \n",
      "ANNUAL   9013.688346  125275.096761  598334.762240  79154.756536  \n",
      "Jan-Feb  3512.342973    4385.069178     756.357901    630.248247  \n",
      "Mar-May  4385.069178   40439.879705   66774.885424  14946.235220  \n",
      "Jun-Sep   756.357901   66774.885424  499680.824907  36465.214924  \n",
      "Oct-Dec   630.248247   14946.235220   36465.214924  27781.806104  \n",
      "Co-Relation =              YEAR       JAN       FEB       MAR       APR       MAY       JUN  \\\n",
      "YEAR     1.000000 -0.056202 -0.022136  0.020325  0.008005  0.003593 -0.013590   \n",
      "JAN     -0.056202  1.000000  0.455847  0.398275  0.208858  0.129463 -0.033697   \n",
      "FEB     -0.022136  0.455847  1.000000  0.578410  0.366564  0.202766  0.033658   \n",
      "MAR      0.020325  0.398275  0.578410  1.000000  0.555162  0.362252  0.165256   \n",
      "APR      0.008005  0.208858  0.366564  0.555162  1.000000  0.650513  0.455211   \n",
      "MAY      0.003593  0.129463  0.202766  0.362252  0.650513  1.000000  0.566751   \n",
      "JUN     -0.013590 -0.033697  0.033658  0.165256  0.455211  0.566751  1.000000   \n",
      "JUL     -0.016225 -0.051449  0.016191  0.097122  0.267485  0.331508  0.739923   \n",
      "AUG      0.006440  0.011926  0.072109  0.134973  0.256094  0.329090  0.655136   \n",
      "SEP     -0.006666  0.024265  0.079993  0.178535  0.382341  0.491688  0.551191   \n",
      "OCT      0.002404  0.012359 -0.004574  0.085951  0.367632  0.527885  0.489080   \n",
      "NOV     -0.018750  0.067105 -0.023288  0.008804  0.164933  0.350037  0.228909   \n",
      "DEC     -0.019113  0.219077  0.132250  0.136122  0.132105  0.248963  0.088470   \n",
      "ANNUAL  -0.008021  0.105213  0.180311  0.320523  0.571217  0.692228  0.884572   \n",
      "Jan-Feb -0.044611  0.841989  0.863589  0.575755  0.340239  0.195905  0.001014   \n",
      "Mar-May  0.010630  0.241899  0.381608  0.641975  0.861953  0.913500  0.536289   \n",
      "Jun-Sep -0.009408 -0.022660  0.050887  0.161425  0.392298  0.494785  0.891237   \n",
      "Oct-Dec -0.010140  0.090685  0.021782  0.089811  0.319622  0.520597  0.407425   \n",
      "\n",
      "              JUL       AUG       SEP       OCT       NOV       DEC    ANNUAL  \\\n",
      "YEAR    -0.016225  0.006440 -0.006666  0.002404 -0.018750 -0.019113 -0.008021   \n",
      "JAN     -0.051449  0.011926  0.024265  0.012359  0.067105  0.219077  0.105213   \n",
      "FEB      0.016191  0.072109  0.079993 -0.004574 -0.023288  0.132250  0.180311   \n",
      "MAR      0.097122  0.134973  0.178535  0.085951  0.008804  0.136122  0.320523   \n",
      "APR      0.267485  0.256094  0.382341  0.367632  0.164933  0.132105  0.571217   \n",
      "MAY      0.331508  0.329090  0.491688  0.527885  0.350037  0.248963  0.692228   \n",
      "JUN      0.739923  0.655136  0.551191  0.489080  0.228909  0.088470  0.884572   \n",
      "JUL      1.000000  0.686160  0.512872  0.299179  0.042657 -0.019421  0.809836   \n",
      "AUG      0.686160  1.000000  0.497032  0.250447  0.017396  0.001640  0.752985   \n",
      "SEP      0.512872  0.497032  1.000000  0.383522  0.153388  0.109209  0.712646   \n",
      "OCT      0.299179  0.250447  0.383522  1.000000  0.477294  0.280864  0.584567   \n",
      "NOV      0.042657  0.017396  0.153388  0.477294  1.000000  0.450061  0.306364   \n",
      "DEC     -0.019421  0.001640  0.109209  0.280864  0.450061  1.000000  0.205874   \n",
      "ANNUAL   0.809836  0.752985  0.712646  0.584567  0.306364  0.205874  1.000000   \n",
      "Jan-Feb -0.019089  0.050799  0.062041  0.003737  0.022761  0.204220  0.168805   \n",
      "Mar-May  0.312482  0.317891  0.468689  0.466282  0.270758  0.226786  0.691419   \n",
      "Jun-Sep  0.907639  0.839722  0.701740  0.415501  0.126138  0.042298  0.939463   \n",
      "Oct-Dec  0.190319  0.155471  0.319217  0.861813  0.806379  0.606649  0.527082   \n",
      "\n",
      "          Jan-Feb   Mar-May   Jun-Sep   Oct-Dec  \n",
      "YEAR    -0.044611  0.010630 -0.009408 -0.010140  \n",
      "JAN      0.841989  0.241899 -0.022660  0.090685  \n",
      "FEB      0.863589  0.381608  0.050887  0.021782  \n",
      "MAR      0.575755  0.641975  0.161425  0.089811  \n",
      "APR      0.340239  0.861953  0.392298  0.319622  \n",
      "MAY      0.195905  0.913500  0.494785  0.520597  \n",
      "JUN      0.001014  0.536289  0.891237  0.407425  \n",
      "JUL     -0.019089  0.312482  0.907639  0.190319  \n",
      "AUG      0.050799  0.317891  0.839722  0.155471  \n",
      "SEP      0.062041  0.468689  0.701740  0.319217  \n",
      "OCT      0.003737  0.466282  0.415501  0.861813  \n",
      "NOV      0.022761  0.270758  0.126138  0.806379  \n",
      "DEC      0.204220  0.226786  0.042298  0.606649  \n",
      "ANNUAL   0.168805  0.691419  0.939463  0.527082  \n",
      "Jan-Feb  1.000000  0.367937  0.018054  0.063802  \n",
      "Mar-May  0.367937  1.000000  0.469745  0.445909  \n",
      "Jun-Sep  0.018054  0.469745  1.000000  0.309494  \n",
      "Oct-Dec  0.063802  0.445909  0.309494  1.000000  \n"
     ]
    },
    {
     "name": "stderr",
     "output_type": "stream",
     "text": [
      "C:\\Users\\Hp\\AppData\\Local\\Temp\\ipykernel_22160\\2980793991.py:1: FutureWarning: The default value of numeric_only in DataFrame.cov is deprecated. In a future version, it will default to False. Select only valid columns or specify the value of numeric_only to silence this warning.\n",
      "  print(\"Co-Variance =\",data.cov())\n",
      "C:\\Users\\Hp\\AppData\\Local\\Temp\\ipykernel_22160\\2980793991.py:2: FutureWarning: The default value of numeric_only in DataFrame.corr is deprecated. In a future version, it will default to False. Select only valid columns or specify the value of numeric_only to silence this warning.\n",
      "  print(\"Co-Relation =\",data.corr())\n"
     ]
    }
   ],
   "source": [
    "print(\"Co-Variance =\",data.cov())\n",
    "print(\"Co-Relation =\",data.corr())"
   ]
  },
  {
   "cell_type": "code",
   "execution_count": 84,
   "metadata": {},
   "outputs": [
    {
     "name": "stderr",
     "output_type": "stream",
     "text": [
      "C:\\Users\\Hp\\AppData\\Local\\Temp\\ipykernel_22160\\195724475.py:1: FutureWarning: The default value of numeric_only in DataFrame.corr is deprecated. In a future version, it will default to False. Select only valid columns or specify the value of numeric_only to silence this warning.\n",
      "  corr_cols=data.corr()['ANNUAL'].sort_values()[::-1]\n"
     ]
    },
    {
     "name": "stdout",
     "output_type": "stream",
     "text": [
      "Index of correlation columns: Index(['ANNUAL', 'Jun-Sep', 'JUN', 'JUL', 'AUG', 'SEP', 'MAY', 'Mar-May',\n",
      "       'OCT', 'APR', 'Oct-Dec', 'MAR', 'NOV', 'DEC', 'FEB', 'Jan-Feb', 'JAN',\n",
      "       'YEAR'],\n",
      "      dtype='object')\n"
     ]
    }
   ],
   "source": [
    "corr_cols=data.corr()['ANNUAL'].sort_values()[::-1]\n",
    "print(\"Index of correlation columns:\",corr_cols.index)"
   ]
  },
  {
   "cell_type": "code",
   "execution_count": 85,
   "metadata": {},
   "outputs": [
    {
     "name": "stdout",
     "output_type": "stream",
     "text": [
      "Scatter plot of annual and january attributes\n"
     ]
    },
    {
     "data": {
      "text/plain": [
       "<matplotlib.collections.PathCollection at 0x2712a1b69d0>"
      ]
     },
     "execution_count": 85,
     "metadata": {},
     "output_type": "execute_result"
    },
    {
     "data": {
      "image/png": "[encoded data removed]",
      "text/plain": [
       "<Figure size 640x480 with 1 Axes>"
      ]
     },
     "metadata": {},
     "output_type": "display_data"
    }
   ],
   "source": [
    "print(\"Scatter plot of annual and january attributes\")\n",
    "plt.scatter(data.ANNUAL,data.JAN)"
   ]
  },
  {
   "cell_type": "code",
   "execution_count": 86,
   "metadata": {},
   "outputs": [
    {
     "name": "stdout",
     "output_type": "stream",
     "text": [
      "Box Plot of annual rainfall data in years 1901-2015\n"
     ]
    },
    {
     "data": {
      "text/plain": [
       "<Axes: >"
      ]
     },
     "execution_count": 86,
     "metadata": {},
     "output_type": "execute_result"
    },
    {
     "data": {
      "image/png": "[encoded data removed]",
      "text/plain": [
       "<Figure size 640x480 with 1 Axes>"
      ]
     },
     "metadata": {},
     "output_type": "display_data"
    }
   ],
   "source": [
    "print(\"Box Plot of annual rainfall data in years 1901-2015\")\n",
    "data['ANNUAL'].plot(kind='box',sharex=False,sharey=False)"
   ]
  },
  {
   "cell_type": "code",
   "execution_count": 87,
   "metadata": {},
   "outputs": [
    {
     "name": "stdout",
     "output_type": "stream",
     "text": [
      "Histograms showing the data from attributes (JANUARY to DECEMBER) of the years 1901-2015:\n"
     ]
    },
    {
     "data": {
      "text/plain": [
       "<Axes: >"
      ]
     },
     "execution_count": 87,
     "metadata": {},
     "output_type": "execute_result"
    },
    {
     "data": {
      "image/png": "[encoded data removed]",
      "text/plain": [
       "<Figure size 640x480 with 1 Axes>"
      ]
     },
     "metadata": {},
     "output_type": "display_data"
    }
   ],
   "source": [
    "print(\"Histograms showing the data from attributes (JANUARY to DECEMBER) of the years 1901-2015:\")\n",
    "data['JAN'].hist(bins=20)\n",
    "data['FEB'].hist(bins=20)\n",
    "data['MAR'].hist(bins=20)\n",
    "data['APR'].hist(bins=20)\n",
    "data['MAY'].hist(bins=20)\n",
    "data['JUN'].hist(bins=20)\n",
    "data['JUL'].hist(bins=20)\n",
    "data['AUG'].hist(bins=20)\n",
    "data['SEP'].hist(bins=20)\n",
    "data['OCT'].hist(bins=20)\n",
    "data['NOV'].hist(bins=20)\n",
    "data['DEC'].hist(bins=20)"
   ]
  },
  {
   "cell_type": "code",
   "execution_count": 88,
   "metadata": {},
   "outputs": [
    {
     "name": "stdout",
     "output_type": "stream",
     "text": [
      "Histogram showing the annual rainfall of the all states:\n"
     ]
    },
    {
     "data": {
      "text/plain": [
       "<Axes: >"
      ]
     },
     "execution_count": 88,
     "metadata": {},
     "output_type": "execute_result"
    },
    {
     "data": {
      "image/png": "[encoded data removed]",
      "text/plain": [
       "<Figure size 640x480 with 1 Axes>"
      ]
     },
     "metadata": {},
     "output_type": "display_data"
    }
   ],
   "source": [
    "print(\"Histogram showing the annual rainfall of the all states:\")\n",
    "data['ANNUAL'].hist(bins=20)"
   ]
  },
  {
   "cell_type": "code",
   "execution_count": 89,
   "metadata": {},
   "outputs": [
    {
     "name": "stdout",
     "output_type": "stream",
     "text": [
      "Violin plot of the ANNUAL attribute :-\n"
     ]
    },
    {
     "data": {
      "text/plain": [
       "<Axes: ylabel='ANNUAL'>"
      ]
     },
     "execution_count": 89,
     "metadata": {},
     "output_type": "execute_result"
    },
    {
     "data": {
      "image/png": "[encoded data removed]",
      "text/plain": [
       "<Figure size 640x480 with 1 Axes>"
      ]
     },
     "metadata": {},
     "output_type": "display_data"
    }
   ],
   "source": [
    "print(\"Violin plot of the ANNUAL attribute :-\")\n",
    "sb.violinplot(data=data['ANNUAL'])"
   ]
  },
  {
   "cell_type": "code",
   "execution_count": null,
   "metadata": {},
   "outputs": [],
   "source": []
  },
  {
   "cell_type": "code",
   "execution_count": null,
   "metadata": {},
   "outputs": [],
   "source": []
  },
  {
   "cell_type": "code",
   "execution_count": null,
   "metadata": {},
   "outputs": [],
   "source": []
  },
  {
   "cell_type": "code",
   "execution_count": null,
   "metadata": {},
   "outputs": [],
   "source": []
  }
 ],
 "metadata": {
  "kernelspec": {
   "display_name": "Python 3",
   "language": "python",
   "name": "python3"
  },
  "language_info": {
   "codemirror_mode": {
    "name": "ipython",
    "version": 3
   },
   "file_extension": ".py",
   "mimetype": "text/x-python",
   "name": "python",
   "nbconvert_exporter": "python",
   "pygments_lexer": "ipython3",
   "version": "3.11.3"
  }
 },
 "nbformat": 4,
 "nbformat_minor": 2
}
